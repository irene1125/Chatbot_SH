{
  "nbformat": 4,
  "nbformat_minor": 0,
  "metadata": {
    "colab": {
      "name": "Chatbot_practice1.ipynb",
      "provenance": [],
      "authorship_tag": "ABX9TyP9BCqaTgg/yyoY0gZj3SZg",
      "include_colab_link": true
    },
    "kernelspec": {
      "name": "python3",
      "display_name": "Python 3"
    },
    "language_info": {
      "name": "python"
    }
  },
  "cells": [
    {
      "cell_type": "markdown",
      "metadata": {
        "id": "view-in-github",
        "colab_type": "text"
      },
      "source": [
        "<a href=\"https://colab.research.google.com/github/irene1125/Chatbot_SH/blob/main/Chatbot_practice1.ipynb\" target=\"_parent\"><img src=\"https://colab.research.google.com/assets/colab-badge.svg\" alt=\"Open In Colab\"/></a>"
      ]
    },
    {
      "cell_type": "code",
      "source": [
        "# 필요한 모듈 임포트\n",
        "import pandas as pd\n",
        "import tensorflow as tf\n",
        "from tensorflow.keras import preprocessing\n",
        "from tensorflow.keras.models import Model\n",
        "from tensorflow.keras.layers import Input, Embedding, Dense, Dropout, Conv1D, GlobalMaxPool1D, concatenate"
      ],
      "metadata": {
        "id": "t-hUzUqPdrwN"
      },
      "execution_count": 1,
      "outputs": []
    },
    {
      "cell_type": "code",
      "source": [
        "from google.colab import drive\n",
        "drive.mount('/content/drive')"
      ],
      "metadata": {
        "colab": {
          "base_uri": "https://localhost:8080/"
        },
        "id": "gqwWwwVaRzvT",
        "outputId": "0ed652c0-89ef-4040-86e4-2c35790b6a10"
      },
      "execution_count": 2,
      "outputs": [
        {
          "output_type": "stream",
          "name": "stdout",
          "text": [
            "Mounted at /content/drive\n"
          ]
        }
      ]
    },
    {
      "cell_type": "code",
      "source": [
        "# 데이터 읽어오기\n",
        "train_file = \"/content/drive/MyDrive/ChatbotData.csv\"\n",
        "data = pd.read_csv(train_file, delimiter=\",\")\n",
        "features = data['Q'].tolist()\n",
        "labels = data['label'].tolist()"
      ],
      "metadata": {
        "id": "O67_dd5Rdrl5"
      },
      "execution_count": 3,
      "outputs": []
    },
    {
      "cell_type": "code",
      "execution_count": 4,
      "metadata": {
        "id": "MUklrToXY3Uh"
      },
      "outputs": [],
      "source": [
        "# 단어 인덱스 시퀀스 벡터\n",
        "corpus = [preprocessing.text.text_to_word_sequence(text) for text in features]\n",
        "tokenizer = preprocessing.text.Tokenizer()\n",
        "tokenizer.fit_on_texts(corpus)\n",
        "sequences = tokenizer.texts_to_sequences(corpus)\n",
        "word_index = tokenizer.word_index"
      ]
    },
    {
      "cell_type": "code",
      "source": [
        "MAX_SEQ_LEN = 15 # 단어 시퀀스 벡터 크기\n",
        "padded_seqs = preprocessing.sequence.pad_sequences(sequences, maxlen= MAX_SEQ_LEN, padding = 'post')\n"
      ],
      "metadata": {
        "id": "neVDXKSgeZYT"
      },
      "execution_count": 5,
      "outputs": []
    },
    {
      "cell_type": "code",
      "source": [
        "# 학습용, 검증용, 테스터용 데이터셋 생성\n",
        "# 학습셋:검증셋:테이터셋 = 7:2:1\n",
        "\n",
        "ds = tf.data.Dataset.from_tensor_slices((padded_seqs, labels))\n",
        "ds = ds.shuffle(len(features))"
      ],
      "metadata": {
        "id": "7pL7wEXaedGy"
      },
      "execution_count": 6,
      "outputs": []
    },
    {
      "cell_type": "code",
      "source": [
        "train_size = int(len(padded_seqs) * 0.7)\n",
        "val_size = int(len(padded_seqs)*0.2)\n",
        "test_size = int(len(padded_seqs) * 0.1)\n",
        "\n",
        "train_ds = ds.take(train_size).batch(20)\n",
        "val_ds = ds.skip(train_size).take(val_size).batch(20)\n",
        "test_ds = ds.skip(train_size+val_size).take(test_size).batch(20)"
      ],
      "metadata": {
        "id": "ToX_6XKWTW3J"
      },
      "execution_count": 7,
      "outputs": []
    },
    {
      "cell_type": "code",
      "source": [
        "# 하이퍼파라미터 설정\n",
        "dropout_prob = 0.5\n",
        "EMB_SIZE = 128\n",
        "EPOCH = 5\n",
        "VOCAB_SIZE = len(word_index) + 1"
      ],
      "metadata": {
        "id": "kXp6ess-TW07"
      },
      "execution_count": 8,
      "outputs": []
    },
    {
      "cell_type": "code",
      "source": [
        "#CNN 모델 정의\n",
        "input_layer = Input(shape = (MAX_SEQ_LEN,))\n",
        "embedding_layer = Embedding(VOCAB_SIZE, EMB_SIZE, input_length=MAX_SEQ_LEN)(input_layer)\n",
        "dropout_emb = Dropout(rate=dropout_prob)(embedding_layer)\n",
        "\n",
        "conv1 = Conv1D(\n",
        "    filters = 128,\n",
        "    kernel_size = 3,\n",
        "    padding = 'valid',\n",
        "    activation = tf.nn.relu)(dropout_emb)\n",
        "pool1 = GlobalMaxPool1D()(conv1)\n",
        "\n",
        "conv2 = Conv1D(\n",
        "    filters = 128,\n",
        "    kernel_size = 4,\n",
        "    padding = 'valid',\n",
        "    activation = tf.nn.relu)(dropout_emb)\n",
        "pool2 = GlobalMaxPool1D()(conv2)\n",
        "\n",
        "conv3 = Conv1D(\n",
        "    filters = 128,\n",
        "    kernel_size = 5,\n",
        "    padding = 'valid',\n",
        "    activation = tf.nn.relu)(dropout_emb)\n",
        "pool3 = GlobalMaxPool1D()(conv3)\n"
      ],
      "metadata": {
        "id": "LZu8DjGPTWy4"
      },
      "execution_count": 10,
      "outputs": []
    },
    {
      "cell_type": "code",
      "source": [
        "# 3, 4, 5-gram 이후 합치기\n",
        "concat = concatenate([pool1, pool2, pool3])\n",
        "hidden = Dense(128, activation=tf.nn.relu)(concat)\n",
        "droupout_hidden = Dropout(rate = dropout_prob)(hidden)\n",
        "logits = Dense(3, name = 'logits')(droupout_hidden)\n",
        "predictions = Dense(3, activation = tf.nn.softmax)(logits)"
      ],
      "metadata": {
        "id": "PHdzEYObTWtQ"
      },
      "execution_count": 13,
      "outputs": []
    },
    {
      "cell_type": "code",
      "source": [
        "#모델 생성\n",
        "model = Model(inputs = input_layer, outputs = predictions)\n",
        "model.compile(optimizer = 'adam', loss = 'sparse_categorical_crossentropy',\n",
        "              metrics = ['accuracy'])\n",
        "#모델 학습\n",
        "model.fit(train_ds, validation_data = val_ds, epochs=EPOCH, verbose = 1)\n",
        "\n",
        "#모델 평가\n",
        "loss, accuracy = model.evaluate(test_ds, verbose = 1)\n",
        "print('Accuracy: %f' %(accuracy * 100))\n",
        "print('loss: %f' %(loss))\n",
        "\n",
        "model.save('cnn_model.h5')"
      ],
      "metadata": {
        "id": "NC2bg5qMY8Mu",
        "colab": {
          "base_uri": "https://localhost:8080/"
        },
        "outputId": "0737e397-7cd5-4240-dcba-7f1c38814877"
      },
      "execution_count": 14,
      "outputs": [
        {
          "output_type": "stream",
          "name": "stdout",
          "text": [
            "Epoch 1/5\n",
            "414/414 [==============================] - 14s 32ms/step - loss: 0.9079 - accuracy: 0.5594 - val_loss: 0.5787 - val_accuracy: 0.8084\n",
            "Epoch 2/5\n",
            "414/414 [==============================] - 13s 31ms/step - loss: 0.5337 - accuracy: 0.7946 - val_loss: 0.2521 - val_accuracy: 0.9184\n",
            "Epoch 3/5\n",
            "414/414 [==============================] - 13s 31ms/step - loss: 0.3153 - accuracy: 0.8952 - val_loss: 0.1689 - val_accuracy: 0.9467\n",
            "Epoch 4/5\n",
            "414/414 [==============================] - 13s 32ms/step - loss: 0.1983 - accuracy: 0.9380 - val_loss: 0.0912 - val_accuracy: 0.9712\n",
            "Epoch 5/5\n",
            "414/414 [==============================] - 13s 32ms/step - loss: 0.1323 - accuracy: 0.9602 - val_loss: 0.0609 - val_accuracy: 0.9793\n",
            "60/60 [==============================] - 0s 4ms/step - loss: 0.0638 - accuracy: 0.9772\n",
            "Accuracy: 97.715735\n",
            "loss: 0.063793\n"
          ]
        }
      ]
    },
    {
      "cell_type": "code",
      "source": [
        ""
      ],
      "metadata": {
        "id": "wdLWA_rGVvzO"
      },
      "execution_count": null,
      "outputs": []
    }
  ]
}